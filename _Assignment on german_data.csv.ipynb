{
 "cells": [
  {
   "cell_type": "code",
   "execution_count": 1,
   "id": "45f96f3a-cd64-450b-99c5-0ea9147221d8",
   "metadata": {},
   "outputs": [],
   "source": [
    "import pandas as pd"
   ]
  },
  {
   "cell_type": "code",
   "execution_count": 2,
   "id": "e93cf5f9-f9c9-41e6-8944-9d9b47c2aa84",
   "metadata": {},
   "outputs": [
    {
     "data": {
      "text/html": [
       "<div>\n",
       "<style scoped>\n",
       "    .dataframe tbody tr th:only-of-type {\n",
       "        vertical-align: middle;\n",
       "    }\n",
       "\n",
       "    .dataframe tbody tr th {\n",
       "        vertical-align: top;\n",
       "    }\n",
       "\n",
       "    .dataframe thead th {\n",
       "        text-align: right;\n",
       "    }\n",
       "</style>\n",
       "<table border=\"1\" class=\"dataframe\">\n",
       "  <thead>\n",
       "    <tr style=\"text-align: right;\">\n",
       "      <th></th>\n",
       "      <th>Unnamed: 0</th>\n",
       "      <th>Age</th>\n",
       "      <th>Sex</th>\n",
       "      <th>Job</th>\n",
       "      <th>Housing</th>\n",
       "      <th>Saving accounts</th>\n",
       "      <th>Checking account</th>\n",
       "      <th>Credit amount</th>\n",
       "      <th>Duration</th>\n",
       "      <th>Purpose</th>\n",
       "      <th>Risk</th>\n",
       "    </tr>\n",
       "  </thead>\n",
       "  <tbody>\n",
       "    <tr>\n",
       "      <th>0</th>\n",
       "      <td>0</td>\n",
       "      <td>67</td>\n",
       "      <td>male</td>\n",
       "      <td>2</td>\n",
       "      <td>own</td>\n",
       "      <td>NaN</td>\n",
       "      <td>little</td>\n",
       "      <td>1169</td>\n",
       "      <td>6</td>\n",
       "      <td>radio/TV</td>\n",
       "      <td>good</td>\n",
       "    </tr>\n",
       "    <tr>\n",
       "      <th>1</th>\n",
       "      <td>1</td>\n",
       "      <td>22</td>\n",
       "      <td>female</td>\n",
       "      <td>2</td>\n",
       "      <td>own</td>\n",
       "      <td>little</td>\n",
       "      <td>moderate</td>\n",
       "      <td>5951</td>\n",
       "      <td>48</td>\n",
       "      <td>radio/TV</td>\n",
       "      <td>bad</td>\n",
       "    </tr>\n",
       "    <tr>\n",
       "      <th>2</th>\n",
       "      <td>2</td>\n",
       "      <td>49</td>\n",
       "      <td>male</td>\n",
       "      <td>1</td>\n",
       "      <td>own</td>\n",
       "      <td>little</td>\n",
       "      <td>NaN</td>\n",
       "      <td>2096</td>\n",
       "      <td>12</td>\n",
       "      <td>education</td>\n",
       "      <td>good</td>\n",
       "    </tr>\n",
       "    <tr>\n",
       "      <th>3</th>\n",
       "      <td>3</td>\n",
       "      <td>45</td>\n",
       "      <td>male</td>\n",
       "      <td>2</td>\n",
       "      <td>free</td>\n",
       "      <td>little</td>\n",
       "      <td>little</td>\n",
       "      <td>7882</td>\n",
       "      <td>42</td>\n",
       "      <td>furniture/equipment</td>\n",
       "      <td>good</td>\n",
       "    </tr>\n",
       "    <tr>\n",
       "      <th>4</th>\n",
       "      <td>4</td>\n",
       "      <td>53</td>\n",
       "      <td>male</td>\n",
       "      <td>2</td>\n",
       "      <td>free</td>\n",
       "      <td>little</td>\n",
       "      <td>little</td>\n",
       "      <td>4870</td>\n",
       "      <td>24</td>\n",
       "      <td>car</td>\n",
       "      <td>bad</td>\n",
       "    </tr>\n",
       "    <tr>\n",
       "      <th>...</th>\n",
       "      <td>...</td>\n",
       "      <td>...</td>\n",
       "      <td>...</td>\n",
       "      <td>...</td>\n",
       "      <td>...</td>\n",
       "      <td>...</td>\n",
       "      <td>...</td>\n",
       "      <td>...</td>\n",
       "      <td>...</td>\n",
       "      <td>...</td>\n",
       "      <td>...</td>\n",
       "    </tr>\n",
       "    <tr>\n",
       "      <th>995</th>\n",
       "      <td>995</td>\n",
       "      <td>31</td>\n",
       "      <td>female</td>\n",
       "      <td>1</td>\n",
       "      <td>own</td>\n",
       "      <td>little</td>\n",
       "      <td>NaN</td>\n",
       "      <td>1736</td>\n",
       "      <td>12</td>\n",
       "      <td>furniture/equipment</td>\n",
       "      <td>good</td>\n",
       "    </tr>\n",
       "    <tr>\n",
       "      <th>996</th>\n",
       "      <td>996</td>\n",
       "      <td>40</td>\n",
       "      <td>male</td>\n",
       "      <td>3</td>\n",
       "      <td>own</td>\n",
       "      <td>little</td>\n",
       "      <td>little</td>\n",
       "      <td>3857</td>\n",
       "      <td>30</td>\n",
       "      <td>car</td>\n",
       "      <td>good</td>\n",
       "    </tr>\n",
       "    <tr>\n",
       "      <th>997</th>\n",
       "      <td>997</td>\n",
       "      <td>38</td>\n",
       "      <td>male</td>\n",
       "      <td>2</td>\n",
       "      <td>own</td>\n",
       "      <td>little</td>\n",
       "      <td>NaN</td>\n",
       "      <td>804</td>\n",
       "      <td>12</td>\n",
       "      <td>radio/TV</td>\n",
       "      <td>good</td>\n",
       "    </tr>\n",
       "    <tr>\n",
       "      <th>998</th>\n",
       "      <td>998</td>\n",
       "      <td>23</td>\n",
       "      <td>male</td>\n",
       "      <td>2</td>\n",
       "      <td>free</td>\n",
       "      <td>little</td>\n",
       "      <td>little</td>\n",
       "      <td>1845</td>\n",
       "      <td>45</td>\n",
       "      <td>radio/TV</td>\n",
       "      <td>bad</td>\n",
       "    </tr>\n",
       "    <tr>\n",
       "      <th>999</th>\n",
       "      <td>999</td>\n",
       "      <td>27</td>\n",
       "      <td>male</td>\n",
       "      <td>2</td>\n",
       "      <td>own</td>\n",
       "      <td>moderate</td>\n",
       "      <td>moderate</td>\n",
       "      <td>4576</td>\n",
       "      <td>45</td>\n",
       "      <td>car</td>\n",
       "      <td>good</td>\n",
       "    </tr>\n",
       "  </tbody>\n",
       "</table>\n",
       "<p>1000 rows × 11 columns</p>\n",
       "</div>"
      ],
      "text/plain": [
       "     Unnamed: 0  Age     Sex  Job Housing Saving accounts Checking account  \\\n",
       "0             0   67    male    2     own             NaN           little   \n",
       "1             1   22  female    2     own          little         moderate   \n",
       "2             2   49    male    1     own          little              NaN   \n",
       "3             3   45    male    2    free          little           little   \n",
       "4             4   53    male    2    free          little           little   \n",
       "..          ...  ...     ...  ...     ...             ...              ...   \n",
       "995         995   31  female    1     own          little              NaN   \n",
       "996         996   40    male    3     own          little           little   \n",
       "997         997   38    male    2     own          little              NaN   \n",
       "998         998   23    male    2    free          little           little   \n",
       "999         999   27    male    2     own        moderate         moderate   \n",
       "\n",
       "     Credit amount  Duration              Purpose  Risk  \n",
       "0             1169         6             radio/TV  good  \n",
       "1             5951        48             radio/TV   bad  \n",
       "2             2096        12            education  good  \n",
       "3             7882        42  furniture/equipment  good  \n",
       "4             4870        24                  car   bad  \n",
       "..             ...       ...                  ...   ...  \n",
       "995           1736        12  furniture/equipment  good  \n",
       "996           3857        30                  car  good  \n",
       "997            804        12             radio/TV  good  \n",
       "998           1845        45             radio/TV   bad  \n",
       "999           4576        45                  car  good  \n",
       "\n",
       "[1000 rows x 11 columns]"
      ]
     },
     "execution_count": 2,
     "metadata": {},
     "output_type": "execute_result"
    }
   ],
   "source": [
    "pd.read_csv(r\"german_credit_data.csv\")"
   ]
  },
  {
   "cell_type": "code",
   "execution_count": 20,
   "id": "0737fa67-9732-4eef-b754-c34f62427a83",
   "metadata": {},
   "outputs": [
    {
     "data": {
      "text/plain": [
       "np.int64(577)"
      ]
     },
     "execution_count": 20,
     "metadata": {},
     "output_type": "execute_result"
    }
   ],
   "source": [
    "#Check missing values\n",
    "df.isnull().sum().sum()"
   ]
  },
  {
   "cell_type": "code",
   "execution_count": 19,
   "id": "c71b401f-f265-4216-83f0-072ac8045e73",
   "metadata": {},
   "outputs": [
    {
     "name": "stdout",
     "output_type": "stream",
     "text": [
      "577\n"
     ]
    }
   ],
   "source": [
    "print(df.isnull().sum().sum())"
   ]
  },
  {
   "cell_type": "code",
   "execution_count": 22,
   "id": "8d322bba-3f30-496c-a26b-9a63aacbc688",
   "metadata": {},
   "outputs": [
    {
     "name": "stdout",
     "output_type": "stream",
     "text": [
      "\n",
      "Data types of each column:\n",
      "Unnamed: 0           int64\n",
      "Age                  int64\n",
      "Sex                 object\n",
      "Job                  int64\n",
      "Housing             object\n",
      "Saving accounts     object\n",
      "Checking account    object\n",
      "Credit amount        int64\n",
      "Duration             int64\n",
      "Purpose             object\n",
      "Risk                object\n",
      "dtype: object\n"
     ]
    }
   ],
   "source": [
    "print(\"\\nData types of each column:\")\n",
    "print(df.dtypes)"
   ]
  },
  {
   "cell_type": "code",
   "execution_count": 27,
   "id": "3632bfe5-7765-4241-bbe9-82189f83beed",
   "metadata": {},
   "outputs": [],
   "source": [
    "data = {\n",
    "    'Loan_ID':[1,2,3,4,5,6,7],\n",
    "        'Risk':['Good', 'Bad', 'Good','Good','Bad', 'Good', 'Bad']}"
   ]
  },
  {
   "cell_type": "code",
   "execution_count": 28,
   "id": "c05cc3c3-fa95-4e87-899b-869ce6881f2d",
   "metadata": {},
   "outputs": [],
   "source": [
    "df = pd.read_csv(r\"german_credit_data.csv\")"
   ]
  },
  {
   "cell_type": "code",
   "execution_count": 29,
   "id": "b21d76a1-6e6d-4aaf-8bb6-06c86122d29c",
   "metadata": {},
   "outputs": [
    {
     "name": "stdout",
     "output_type": "stream",
     "text": [
      "Risk Distribution Cout:\n",
      "Risk\n",
      "good    700\n",
      "bad     300\n",
      "Name: count, dtype: int64\n"
     ]
    }
   ],
   "source": [
    "# Distribution of Risks (Cout)\n",
    "print(\"Risk Distribution Cout:\")\n",
    "print(df['Risk'].value_counts())"
   ]
  },
  {
   "cell_type": "code",
   "execution_count": 35,
   "id": "04cd921f-1157-4d2f-b5d2-81b1d1d6863c",
   "metadata": {
    "scrolled": true
   },
   "outputs": [
    {
     "name": "stdout",
     "output_type": "stream",
     "text": [
      "\n",
      "Risk Distribution (Percentage):\n",
      "Risk\n",
      "good    70.0\n",
      "bad     30.0\n",
      "Name: proportion, dtype: float64\n"
     ]
    }
   ],
   "source": [
    "print(\"\\nRisk Distribution (Percentage):\")\n",
    "print(df['Risk'].value_counts(normalize=True) *100)"
   ]
  },
  {
   "cell_type": "code",
   "execution_count": 9,
   "id": "f8b7a37d-815d-4e74-bec3-1150e377970b",
   "metadata": {},
   "outputs": [],
   "source": [
    "import pandas as pd"
   ]
  },
  {
   "cell_type": "code",
   "execution_count": 14,
   "id": "57c1cc49-728b-4730-aa50-762eca2b39f0",
   "metadata": {},
   "outputs": [],
   "source": [
    "df = pd.read_csv(r\"german_credit_data.csv\")"
   ]
  },
  {
   "cell_type": "code",
   "execution_count": 15,
   "id": "bff54046-bf53-43b1-a1c2-c978cf3e70fb",
   "metadata": {},
   "outputs": [
    {
     "name": "stdout",
     "output_type": "stream",
     "text": [
      "Index(['Unnamed: 0', 'Age', 'Sex', 'Job', 'Housing', 'Saving accounts',\n",
      "       'Checking account', 'Credit amount', 'Duration', 'Purpose', 'Risk'],\n",
      "      dtype='object')\n"
     ]
    }
   ],
   "source": [
    "print(df.columns)"
   ]
  },
  {
   "cell_type": "code",
   "execution_count": 16,
   "id": "fcd46d55-2b59-401a-b4a2-90016ab80310",
   "metadata": {},
   "outputs": [],
   "source": [
    "mean_age = df['Age'].mean()\n",
    "median_age = df['Age'].median()\n",
    "min_age = df['Age'].min()\n",
    "max_age = df['Age'].max()"
   ]
  },
  {
   "cell_type": "code",
   "execution_count": 17,
   "id": "3289cab1-58d0-4254-b688-880dd7d48a41",
   "metadata": {},
   "outputs": [
    {
     "name": "stdout",
     "output_type": "stream",
     "text": [
      "Mean Age    : 35.546\n",
      "Median Age  : 33.0\n",
      "Minimum Age : 19\n",
      "Maximum Age : 75\n"
     ]
    }
   ],
   "source": [
    "print(\"Mean Age    :\", mean_age)\n",
    "print(\"Median Age  :\", median_age)\n",
    "print(\"Minimum Age :\", min_age)\n",
    "print(\"Maximum Age :\", max_age)"
   ]
  },
  {
   "cell_type": "code",
   "execution_count": 18,
   "id": "46efc4ac-d1f5-46a5-bd70-72866b914527",
   "metadata": {},
   "outputs": [],
   "source": [
    "import pandas as pd"
   ]
  },
  {
   "cell_type": "code",
   "execution_count": 19,
   "id": "f9370ba5-b599-40b8-ac86-6bfb9a8a9abb",
   "metadata": {},
   "outputs": [
    {
     "name": "stderr",
     "output_type": "stream",
     "text": [
      "Matplotlib is building the font cache; this may take a moment.\n"
     ]
    }
   ],
   "source": [
    "import matplotlib.pyplot as plt"
   ]
  },
  {
   "cell_type": "code",
   "execution_count": 20,
   "id": "a1ff3bb1-e3e6-4c5a-a6f0-4909aa197686",
   "metadata": {},
   "outputs": [],
   "source": [
    "df = pd.read_csv(r\"german_credit_data.csv\")"
   ]
  },
  {
   "cell_type": "code",
   "execution_count": 21,
   "id": "9f236d28-cdeb-462f-b49b-d4e76feee801",
   "metadata": {},
   "outputs": [
    {
     "name": "stdout",
     "output_type": "stream",
     "text": [
      "Index(['Unnamed: 0', 'Age', 'Sex', 'Job', 'Housing', 'Saving accounts',\n",
      "       'Checking account', 'Credit amount', 'Duration', 'Purpose', 'Risk'],\n",
      "      dtype='object')\n"
     ]
    }
   ],
   "source": [
    "print(df.columns)"
   ]
  },
  {
   "cell_type": "code",
   "execution_count": 22,
   "id": "0b14467b-d07f-4f11-bd3e-7d048ea0c8d1",
   "metadata": {},
   "outputs": [],
   "source": [
    "credit_by_risk = df.groupby(\"Risk\")[\"Credit amount\"].mean()"
   ]
  },
  {
   "cell_type": "code",
   "execution_count": 27,
   "id": "eb5b0f34-e416-4861-bdc1-2580da9cf00a",
   "metadata": {},
   "outputs": [
    {
     "name": "stdout",
     "output_type": "stream",
     "text": [
      "Average Credit Amount by Risk:\n",
      "Risk\n",
      "bad     3938.126667\n",
      "good    2985.457143\n",
      "Name: Credit amount, dtype: float64\n"
     ]
    }
   ],
   "source": [
    "print(\"Average Credit Amount by Risk:\")\n",
    "print(credit_by_risk)"
   ]
  },
  {
   "cell_type": "code",
   "execution_count": 28,
   "id": "5d889041-b6c5-443a-a50c-deb79958e821",
   "metadata": {},
   "outputs": [],
   "source": [
    "df = pd.read_csv(r\"german_credit_data.csv\")"
   ]
  },
  {
   "cell_type": "code",
   "execution_count": 29,
   "id": "ac3f4edc-eb22-4ea9-ab43-af46944e0236",
   "metadata": {},
   "outputs": [
    {
     "name": "stdout",
     "output_type": "stream",
     "text": [
      "Housing vs Risk Table:\n",
      "Risk     bad  good\n",
      "Housing           \n",
      "free      44    64\n",
      "own      186   527\n",
      "rent      70   109\n"
     ]
    }
   ],
   "source": [
    "housing_risk_table = pd.crosstab(df['Housing'],df['Risk'])\n",
    "print(\"Housing vs Risk Table:\")\n",
    "print(housing_risk_table)"
   ]
  },
  {
   "cell_type": "code",
   "execution_count": 2,
   "id": "8e6bcf0b-e6f9-409d-afe3-dfbfaab00a5b",
   "metadata": {},
   "outputs": [],
   "source": [
    "import pandas as pd"
   ]
  },
  {
   "cell_type": "code",
   "execution_count": 3,
   "id": "97aec44b-2416-49da-8516-4a0ff9554465",
   "metadata": {},
   "outputs": [],
   "source": [
    "df = pd.read_csv(r\"german_credit_data.csv\")"
   ]
  },
  {
   "cell_type": "code",
   "execution_count": 5,
   "id": "4f39fa39-f7c6-43d9-9d1d-a460c9f40099",
   "metadata": {},
   "outputs": [],
   "source": [
    "job_risk_distribution = df.groupby(['Job', 'Risk']).size().unstack(fill_value=0)"
   ]
  },
  {
   "cell_type": "code",
   "execution_count": 6,
   "id": "7b70f5ff-9420-4af1-927b-186b74627271",
   "metadata": {},
   "outputs": [],
   "source": [
    "job_risk_distribution['Bad_Risk_%'] = (job_risk_distribution['bad'] / job_risk_distribution.sum(axis=1) * 100)"
   ]
  },
  {
   "cell_type": "code",
   "execution_count": 7,
   "id": "1ef0d42d-6d00-4b7d-900f-88000c547a3e",
   "metadata": {},
   "outputs": [
    {
     "name": "stdout",
     "output_type": "stream",
     "text": [
      "Job distribution with Risk association:\n",
      "\n",
      "Risk  bad  good  Bad_Risk_%\n",
      "Job                        \n",
      "0       7    15   31.818182\n",
      "1      56   144   28.000000\n",
      "2     186   444   29.523810\n",
      "3      51    97   34.459459\n"
     ]
    }
   ],
   "source": [
    "print(\"Job distribution with Risk association:\\n\")\n",
    "print(job_risk_distribution)"
   ]
  },
  {
   "cell_type": "code",
   "execution_count": 8,
   "id": "5a9af542-3943-48fd-b0f6-40272e14416a",
   "metadata": {},
   "outputs": [],
   "source": [
    "df = pd.read_csv(r\"german_credit_data.csv\")"
   ]
  },
  {
   "cell_type": "code",
   "execution_count": 11,
   "id": "7c34b9d2-5cc1-43aa-9afc-f7d1b9808a0b",
   "metadata": {},
   "outputs": [],
   "source": [
    "savings_risk = pd.crosstab(df['Saving accounts'], df['Risk'], normalize='index') * 100"
   ]
  },
  {
   "cell_type": "code",
   "execution_count": 12,
   "id": "bdd73171-0e22-4162-9d07-50492e4feb38",
   "metadata": {},
   "outputs": [],
   "source": [
    "checking_risk = pd.crosstab(df['Checking account'], df['Risk'], normalize='index') * 100"
   ]
  },
  {
   "cell_type": "code",
   "execution_count": 13,
   "id": "6bbddac4-5a7e-48b2-8a8b-986109e809e9",
   "metadata": {},
   "outputs": [
    {
     "name": "stdout",
     "output_type": "stream",
     "text": [
      "Saving Accounts vs Risk (%):\n",
      " Risk                   bad       good\n",
      "Saving accounts                      \n",
      "little           35.986733  64.013267\n",
      "moderate         33.009709  66.990291\n",
      "quite rich       17.460317  82.539683\n",
      "rich             12.500000  87.500000\n",
      "\n",
      "Checking Account vs Risk (%):\n",
      " Risk                    bad       good\n",
      "Checking account                      \n",
      "little            49.270073  50.729927\n",
      "moderate          39.033457  60.966543\n",
      "rich              22.222222  77.777778\n"
     ]
    }
   ],
   "source": [
    "print(\"Saving Accounts vs Risk (%):\\n\", savings_risk)\n",
    "print(\"\\nChecking Account vs Risk (%):\\n\", checking_risk)"
   ]
  },
  {
   "cell_type": "code",
   "execution_count": 14,
   "id": "0bc63a27-e1e6-4e13-9958-b9fb9b3fe2fb",
   "metadata": {},
   "outputs": [],
   "source": [
    "df = pd.read_csv(r\"german_credit_data.csv\")"
   ]
  },
  {
   "cell_type": "code",
   "execution_count": 15,
   "id": "6d88813d-1a05-47c4-9bdb-7104f8cbc0d6",
   "metadata": {},
   "outputs": [],
   "source": [
    "avg_duration_by_risk = df.groupby('Risk')['Duration'].mean()"
   ]
  },
  {
   "cell_type": "code",
   "execution_count": 16,
   "id": "6d69d12c-cbd0-4ee6-bd4e-96c1854ab849",
   "metadata": {},
   "outputs": [
    {
     "name": "stdout",
     "output_type": "stream",
     "text": [
      "Average Loan Duration by Risk:\n",
      " Risk\n",
      "bad     24.860000\n",
      "good    19.207143\n",
      "Name: Duration, dtype: float64\n"
     ]
    }
   ],
   "source": [
    "print(\"Average Loan Duration by Risk:\\n\",avg_duration_by_risk)"
   ]
  },
  {
   "cell_type": "code",
   "execution_count": 17,
   "id": "1dfe39f1-7c92-4de4-bd1a-cf9cec6a5b4f",
   "metadata": {},
   "outputs": [],
   "source": [
    "purpose_risk = pd.crosstab(df['Purpose'], df['Risk'], normalize='index') * 100"
   ]
  },
  {
   "cell_type": "code",
   "execution_count": 18,
   "id": "f5231f52-0f5b-4ed7-949b-adf9b72cf498",
   "metadata": {},
   "outputs": [
    {
     "name": "stdout",
     "output_type": "stream",
     "text": [
      "Loan Purpose vs Risk (%):\n",
      "\n",
      "Risk                       bad       good\n",
      "Purpose                                  \n",
      "business             35.051546  64.948454\n",
      "car                  31.454006  68.545994\n",
      "domestic appliances  33.333333  66.666667\n",
      "education            38.983051  61.016949\n",
      "furniture/equipment  32.044199  67.955801\n",
      "radio/TV             22.142857  77.857143\n",
      "repairs              36.363636  63.636364\n",
      "vacation/others      41.666667  58.333333\n"
     ]
    }
   ],
   "source": [
    "print(\"Loan Purpose vs Risk (%):\\n\")\n",
    "print(purpose_risk)"
   ]
  },
  {
   "cell_type": "code",
   "execution_count": 19,
   "id": "b9eaa6d5-012c-4016-9f6d-dabc0eadd5d6",
   "metadata": {},
   "outputs": [],
   "source": [
    "num_vars = df[['Age', 'Credit amount', 'Duration']]"
   ]
  },
  {
   "cell_type": "code",
   "execution_count": 20,
   "id": "1f16060b-9a68-404f-a7a0-828164253f18",
   "metadata": {},
   "outputs": [],
   "source": [
    "correlation_matrix = num_vars.corr()"
   ]
  },
  {
   "cell_type": "code",
   "execution_count": 21,
   "id": "0253bc0d-8aee-4f77-b297-22a64777abfc",
   "metadata": {},
   "outputs": [
    {
     "name": "stdout",
     "output_type": "stream",
     "text": [
      "Correlation between Age, Credit amount, and Duration:\n",
      "\n",
      "                    Age  Credit amount  Duration\n",
      "Age            1.000000       0.032716 -0.036136\n",
      "Credit amount  0.032716       1.000000  0.624984\n",
      "Duration      -0.036136       0.624984  1.000000\n"
     ]
    }
   ],
   "source": [
    "print(\"Correlation between Age, Credit amount, and Duration:\\n\")\n",
    "print(correlation_matrix)"
   ]
  },
  {
   "cell_type": "code",
   "execution_count": null,
   "id": "a700f61f-69e3-48a1-af59-0d641a8d58e6",
   "metadata": {},
   "outputs": [],
   "source": []
  }
 ],
 "metadata": {
  "kernelspec": {
   "display_name": "Python 3 (ipykernel)",
   "language": "python",
   "name": "python3"
  },
  "language_info": {
   "codemirror_mode": {
    "name": "ipython",
    "version": 3
   },
   "file_extension": ".py",
   "mimetype": "text/x-python",
   "name": "python",
   "nbconvert_exporter": "python",
   "pygments_lexer": "ipython3",
   "version": "3.13.5"
  }
 },
 "nbformat": 4,
 "nbformat_minor": 5
}
